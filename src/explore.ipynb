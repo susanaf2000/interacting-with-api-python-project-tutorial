{
    "cells": [
        {
            "cell_type": "markdown",
            "metadata": {},
            "source": [
                "# Spotify Project"
            ]
        },
        {
            "cell_type": "code",
            "execution_count": 3,
            "metadata": {},
            "outputs": [
                {
                    "name": "stdout",
                    "output_type": "stream",
                    "text": [
                        "acef22a2d8fa4d3983713871def09dd8\n"
                    ]
                }
            ],
            "source": [
                "import os\n",
                "from sqlalchemy import create_engine\n",
                "import pandas as pd\n",
                "from dotenv import load_dotenv\n",
                "import spotipy\n",
                "from spotipy.oauth2 import SpotifyClientCredentials\n",
                "\n",
                "\n",
                "load_dotenv()\n",
                "\n",
                "client_id = os.environ.get(\"CLIENT_ID\")\n",
                "client_secret = os.environ.get(\"CLIENT_SECRET\")\n"
            ]
        },
        {
            "cell_type": "code",
            "execution_count": 80,
            "metadata": {},
            "outputs": [
                {
                    "name": "stdout",
                    "output_type": "stream",
                    "text": [
                        "[{'album': {'album_type': 'album', 'artists': [{'external_urls': {'spotify': 'https://open.spotify.com/artist/2YZyLoL8N0Wb9xBt1NhZWg'}, 'href': 'https://api.spotify.com/v1/artists/2YZyLoL8N0Wb9xBt1NhZWg', 'id': '2YZyLoL8N0Wb9xBt1NhZWg', 'name': 'Kendrick Lamar', 'type': 'artist', 'uri': 'spotify:artist:2YZyLoL8N0Wb9xBt1NhZWg'}], 'external_urls': {'spotify': 'https://open.spotify.com/album/6PBZN8cbwkqm1ERj2BGXJ1'}, 'href': 'https://api.spotify.com/v1/albums/6PBZN8cbwkqm1ERj2BGXJ1', 'id': '6PBZN8cbwkqm1ERj2BGXJ1', 'images': [{'height': 640, 'url': 'https://i.scdn.co/image/ab67616d0000b273d28d2ebdedb220e479743797', 'width': 640}, {'height': 300, 'url': 'https://i.scdn.co/image/ab67616d00001e02d28d2ebdedb220e479743797', 'width': 300}, {'height': 64, 'url': 'https://i.scdn.co/image/ab67616d00004851d28d2ebdedb220e479743797', 'width': 64}], 'is_playable': True, 'name': 'good kid, m.A.A.d city', 'release_date': '2012', 'release_date_precision': 'year', 'total_tracks': 13, 'type': 'album', 'uri': 'spotify:album:6PBZN8cbwkqm1ERj2BGXJ1'}, 'artists': [{'external_urls': {'spotify': 'https://open.spotify.com/artist/2YZyLoL8N0Wb9xBt1NhZWg'}, 'href': 'https://api.spotify.com/v1/artists/2YZyLoL8N0Wb9xBt1NhZWg', 'id': '2YZyLoL8N0Wb9xBt1NhZWg', 'name': 'Kendrick Lamar', 'type': 'artist', 'uri': 'spotify:artist:2YZyLoL8N0Wb9xBt1NhZWg'}, {'external_urls': {'spotify': 'https://open.spotify.com/artist/28ExwzUQsvgJooOI0X1mr3'}, 'href': 'https://api.spotify.com/v1/artists/28ExwzUQsvgJooOI0X1mr3', 'id': '28ExwzUQsvgJooOI0X1mr3', 'name': 'Jay Rock', 'type': 'artist', 'uri': 'spotify:artist:28ExwzUQsvgJooOI0X1mr3'}], 'disc_number': 1, 'duration_ms': 386906, 'explicit': True, 'external_ids': {'isrc': 'USUM71210785'}, 'external_urls': {'spotify': 'https://open.spotify.com/track/2HbKqm4o0w5wEeEFXm2sD4'}, 'href': 'https://api.spotify.com/v1/tracks/2HbKqm4o0w5wEeEFXm2sD4', 'id': '2HbKqm4o0w5wEeEFXm2sD4', 'is_local': False, 'is_playable': True, 'name': 'Money Trees', 'popularity': 84, 'preview_url': None, 'track_number': 5, 'type': 'track', 'uri': 'spotify:track:2HbKqm4o0w5wEeEFXm2sD4'}, {'album': {'album_type': 'album', 'artists': [{'external_urls': {'spotify': 'https://open.spotify.com/artist/2YZyLoL8N0Wb9xBt1NhZWg'}, 'href': 'https://api.spotify.com/v1/artists/2YZyLoL8N0Wb9xBt1NhZWg', 'id': '2YZyLoL8N0Wb9xBt1NhZWg', 'name': 'Kendrick Lamar', 'type': 'artist', 'uri': 'spotify:artist:2YZyLoL8N0Wb9xBt1NhZWg'}, {'external_urls': {'spotify': 'https://open.spotify.com/artist/7tYKF4w9nC0nq9CsPZTHyP'}, 'href': 'https://api.spotify.com/v1/artists/7tYKF4w9nC0nq9CsPZTHyP', 'id': '7tYKF4w9nC0nq9CsPZTHyP', 'name': 'SZA', 'type': 'artist', 'uri': 'spotify:artist:7tYKF4w9nC0nq9CsPZTHyP'}], 'external_urls': {'spotify': 'https://open.spotify.com/album/3pLdWdkj83EYfDN6H2N8MR'}, 'href': 'https://api.spotify.com/v1/albums/3pLdWdkj83EYfDN6H2N8MR', 'id': '3pLdWdkj83EYfDN6H2N8MR', 'images': [{'height': 640, 'url': 'https://i.scdn.co/image/ab67616d0000b273c027ad28821777b00dcaa888', 'width': 640}, {'height': 300, 'url': 'https://i.scdn.co/image/ab67616d00001e02c027ad28821777b00dcaa888', 'width': 300}, {'height': 64, 'url': 'https://i.scdn.co/image/ab67616d00004851c027ad28821777b00dcaa888', 'width': 64}], 'is_playable': True, 'name': 'Black Panther The Album Music From And Inspired By', 'release_date': '2018-02-09', 'release_date_precision': 'day', 'total_tracks': 14, 'type': 'album', 'uri': 'spotify:album:3pLdWdkj83EYfDN6H2N8MR'}, 'artists': [{'external_urls': {'spotify': 'https://open.spotify.com/artist/2YZyLoL8N0Wb9xBt1NhZWg'}, 'href': 'https://api.spotify.com/v1/artists/2YZyLoL8N0Wb9xBt1NhZWg', 'id': '2YZyLoL8N0Wb9xBt1NhZWg', 'name': 'Kendrick Lamar', 'type': 'artist', 'uri': 'spotify:artist:2YZyLoL8N0Wb9xBt1NhZWg'}, {'external_urls': {'spotify': 'https://open.spotify.com/artist/7tYKF4w9nC0nq9CsPZTHyP'}, 'href': 'https://api.spotify.com/v1/artists/7tYKF4w9nC0nq9CsPZTHyP', 'id': '7tYKF4w9nC0nq9CsPZTHyP', 'name': 'SZA', 'type': 'artist', 'uri': 'spotify:artist:7tYKF4w9nC0nq9CsPZTHyP'}], 'disc_number': 1, 'duration_ms': 232186, 'explicit': True, 'external_ids': {'isrc': 'USUM71713947'}, 'external_urls': {'spotify': 'https://open.spotify.com/track/3GCdLUSnKSMJhs4Tj6CV3s'}, 'href': 'https://api.spotify.com/v1/tracks/3GCdLUSnKSMJhs4Tj6CV3s', 'id': '3GCdLUSnKSMJhs4Tj6CV3s', 'is_local': False, 'is_playable': True, 'name': 'All The Stars (with SZA)', 'popularity': 89, 'preview_url': None, 'track_number': 2, 'type': 'track', 'uri': 'spotify:track:3GCdLUSnKSMJhs4Tj6CV3s'}, {'album': {'album_type': 'album', 'artists': [{'external_urls': {'spotify': 'https://open.spotify.com/artist/2YZyLoL8N0Wb9xBt1NhZWg'}, 'href': 'https://api.spotify.com/v1/artists/2YZyLoL8N0Wb9xBt1NhZWg', 'id': '2YZyLoL8N0Wb9xBt1NhZWg', 'name': 'Kendrick Lamar', 'type': 'artist', 'uri': 'spotify:artist:2YZyLoL8N0Wb9xBt1NhZWg'}], 'external_urls': {'spotify': 'https://open.spotify.com/album/4eLPsYPBmXABThSJ821sqY'}, 'href': 'https://api.spotify.com/v1/albums/4eLPsYPBmXABThSJ821sqY', 'id': '4eLPsYPBmXABThSJ821sqY', 'images': [{'height': 640, 'url': 'https://i.scdn.co/image/ab67616d0000b2738b52c6b9bc4e43d873869699', 'width': 640}, {'height': 300, 'url': 'https://i.scdn.co/image/ab67616d00001e028b52c6b9bc4e43d873869699', 'width': 300}, {'height': 64, 'url': 'https://i.scdn.co/image/ab67616d000048518b52c6b9bc4e43d873869699', 'width': 64}], 'is_playable': True, 'name': 'DAMN.', 'release_date': '2017-04-14', 'release_date_precision': 'day', 'total_tracks': 14, 'type': 'album', 'uri': 'spotify:album:4eLPsYPBmXABThSJ821sqY'}, 'artists': [{'external_urls': {'spotify': 'https://open.spotify.com/artist/2YZyLoL8N0Wb9xBt1NhZWg'}, 'href': 'https://api.spotify.com/v1/artists/2YZyLoL8N0Wb9xBt1NhZWg', 'id': '2YZyLoL8N0Wb9xBt1NhZWg', 'name': 'Kendrick Lamar', 'type': 'artist', 'uri': 'spotify:artist:2YZyLoL8N0Wb9xBt1NhZWg'}], 'disc_number': 1, 'duration_ms': 177000, 'explicit': True, 'external_ids': {'isrc': 'USUM71703085'}, 'external_urls': {'spotify': 'https://open.spotify.com/track/7KXjTSCq5nL1LoYtL7XAwS'}, 'href': 'https://api.spotify.com/v1/tracks/7KXjTSCq5nL1LoYtL7XAwS', 'id': '7KXjTSCq5nL1LoYtL7XAwS', 'is_local': False, 'is_playable': True, 'name': 'HUMBLE.', 'popularity': 88, 'preview_url': None, 'track_number': 8, 'type': 'track', 'uri': 'spotify:track:7KXjTSCq5nL1LoYtL7XAwS'}, {'album': {'album_type': 'album', 'artists': [{'external_urls': {'spotify': 'https://open.spotify.com/artist/2YZyLoL8N0Wb9xBt1NhZWg'}, 'href': 'https://api.spotify.com/v1/artists/2YZyLoL8N0Wb9xBt1NhZWg', 'id': '2YZyLoL8N0Wb9xBt1NhZWg', 'name': 'Kendrick Lamar', 'type': 'artist', 'uri': 'spotify:artist:2YZyLoL8N0Wb9xBt1NhZWg'}], 'external_urls': {'spotify': 'https://open.spotify.com/album/4eLPsYPBmXABThSJ821sqY'}, 'href': 'https://api.spotify.com/v1/albums/4eLPsYPBmXABThSJ821sqY', 'id': '4eLPsYPBmXABThSJ821sqY', 'images': [{'height': 640, 'url': 'https://i.scdn.co/image/ab67616d0000b2738b52c6b9bc4e43d873869699', 'width': 640}, {'height': 300, 'url': 'https://i.scdn.co/image/ab67616d00001e028b52c6b9bc4e43d873869699', 'width': 300}, {'height': 64, 'url': 'https://i.scdn.co/image/ab67616d000048518b52c6b9bc4e43d873869699', 'width': 64}], 'is_playable': True, 'name': 'DAMN.', 'release_date': '2017-04-14', 'release_date_precision': 'day', 'total_tracks': 14, 'type': 'album', 'uri': 'spotify:album:4eLPsYPBmXABThSJ821sqY'}, 'artists': [{'external_urls': {'spotify': 'https://open.spotify.com/artist/2YZyLoL8N0Wb9xBt1NhZWg'}, 'href': 'https://api.spotify.com/v1/artists/2YZyLoL8N0Wb9xBt1NhZWg', 'id': '2YZyLoL8N0Wb9xBt1NhZWg', 'name': 'Kendrick Lamar', 'type': 'artist', 'uri': 'spotify:artist:2YZyLoL8N0Wb9xBt1NhZWg'}, {'external_urls': {'spotify': 'https://open.spotify.com/artist/3qBKjEOanahMxlRojwCzhI'}, 'href': 'https://api.spotify.com/v1/artists/3qBKjEOanahMxlRojwCzhI', 'id': '3qBKjEOanahMxlRojwCzhI', 'name': 'Zacari', 'type': 'artist', 'uri': 'spotify:artist:3qBKjEOanahMxlRojwCzhI'}], 'disc_number': 1, 'duration_ms': 213400, 'explicit': True, 'external_ids': {'isrc': 'USUM71703088'}, 'external_urls': {'spotify': 'https://open.spotify.com/track/6PGoSes0D9eUDeeAafB2As'}, 'href': 'https://api.spotify.com/v1/tracks/6PGoSes0D9eUDeeAafB2As', 'id': '6PGoSes0D9eUDeeAafB2As', 'is_local': False, 'is_playable': True, 'name': 'LOVE. FEAT. ZACARI.', 'popularity': 87, 'preview_url': None, 'track_number': 10, 'type': 'track', 'uri': 'spotify:track:6PGoSes0D9eUDeeAafB2As'}, {'album': {'album_type': 'album', 'artists': [{'external_urls': {'spotify': 'https://open.spotify.com/artist/2YZyLoL8N0Wb9xBt1NhZWg'}, 'href': 'https://api.spotify.com/v1/artists/2YZyLoL8N0Wb9xBt1NhZWg', 'id': '2YZyLoL8N0Wb9xBt1NhZWg', 'name': 'Kendrick Lamar', 'type': 'artist', 'uri': 'spotify:artist:2YZyLoL8N0Wb9xBt1NhZWg'}], 'external_urls': {'spotify': 'https://open.spotify.com/album/4eLPsYPBmXABThSJ821sqY'}, 'href': 'https://api.spotify.com/v1/albums/4eLPsYPBmXABThSJ821sqY', 'id': '4eLPsYPBmXABThSJ821sqY', 'images': [{'height': 640, 'url': 'https://i.scdn.co/image/ab67616d0000b2738b52c6b9bc4e43d873869699', 'width': 640}, {'height': 300, 'url': 'https://i.scdn.co/image/ab67616d00001e028b52c6b9bc4e43d873869699', 'width': 300}, {'height': 64, 'url': 'https://i.scdn.co/image/ab67616d000048518b52c6b9bc4e43d873869699', 'width': 64}], 'is_playable': True, 'name': 'DAMN.', 'release_date': '2017-04-14', 'release_date_precision': 'day', 'total_tracks': 14, 'type': 'album', 'uri': 'spotify:album:4eLPsYPBmXABThSJ821sqY'}, 'artists': [{'external_urls': {'spotify': 'https://open.spotify.com/artist/2YZyLoL8N0Wb9xBt1NhZWg'}, 'href': 'https://api.spotify.com/v1/artists/2YZyLoL8N0Wb9xBt1NhZWg', 'id': '2YZyLoL8N0Wb9xBt1NhZWg', 'name': 'Kendrick Lamar', 'type': 'artist', 'uri': 'spotify:artist:2YZyLoL8N0Wb9xBt1NhZWg'}], 'disc_number': 1, 'duration_ms': 275253, 'explicit': True, 'external_ids': {'isrc': 'USUM71703084'}, 'external_urls': {'spotify': 'https://open.spotify.com/track/6IZvVAP7VPPnsGX6bvgkqg'}, 'href': 'https://api.spotify.com/v1/tracks/6IZvVAP7VPPnsGX6bvgkqg', 'id': '6IZvVAP7VPPnsGX6bvgkqg', 'is_local': False, 'is_playable': True, 'name': 'PRIDE.', 'popularity': 86, 'preview_url': None, 'track_number': 7, 'type': 'track', 'uri': 'spotify:track:6IZvVAP7VPPnsGX6bvgkqg'}, {'album': {'album_type': 'album', 'artists': [{'external_urls': {'spotify': 'https://open.spotify.com/artist/5SXuuuRpukkTvsLuUknva1'}, 'href': 'https://api.spotify.com/v1/artists/5SXuuuRpukkTvsLuUknva1', 'id': '5SXuuuRpukkTvsLuUknva1', 'name': 'Baby Keem', 'type': 'artist', 'uri': 'spotify:artist:5SXuuuRpukkTvsLuUknva1'}], 'external_urls': {'spotify': 'https://open.spotify.com/album/3r46DPIQeBQbjvjjV5mXGg'}, 'href': 'https://api.spotify.com/v1/albums/3r46DPIQeBQbjvjjV5mXGg', 'id': '3r46DPIQeBQbjvjjV5mXGg', 'images': [{'height': 640, 'url': 'https://i.scdn.co/image/ab67616d0000b2731bfa23b13d0504fb90c37b39', 'width': 640}, {'height': 300, 'url': 'https://i.scdn.co/image/ab67616d00001e021bfa23b13d0504fb90c37b39', 'width': 300}, {'height': 64, 'url': 'https://i.scdn.co/image/ab67616d000048511bfa23b13d0504fb90c37b39', 'width': 64}], 'is_playable': True, 'name': 'The Melodic Blue', 'release_date': '2021-09-10', 'release_date_precision': 'day', 'total_tracks': 16, 'type': 'album', 'uri': 'spotify:album:3r46DPIQeBQbjvjjV5mXGg'}, 'artists': [{'external_urls': {'spotify': 'https://open.spotify.com/artist/5SXuuuRpukkTvsLuUknva1'}, 'href': 'https://api.spotify.com/v1/artists/5SXuuuRpukkTvsLuUknva1', 'id': '5SXuuuRpukkTvsLuUknva1', 'name': 'Baby Keem', 'type': 'artist', 'uri': 'spotify:artist:5SXuuuRpukkTvsLuUknva1'}, {'external_urls': {'spotify': 'https://open.spotify.com/artist/2YZyLoL8N0Wb9xBt1NhZWg'}, 'href': 'https://api.spotify.com/v1/artists/2YZyLoL8N0Wb9xBt1NhZWg', 'id': '2YZyLoL8N0Wb9xBt1NhZWg', 'name': 'Kendrick Lamar', 'type': 'artist', 'uri': 'spotify:artist:2YZyLoL8N0Wb9xBt1NhZWg'}], 'disc_number': 1, 'duration_ms': 252262, 'explicit': True, 'external_ids': {'isrc': 'USSM12105949'}, 'external_urls': {'spotify': 'https://open.spotify.com/track/3QFInJAm9eyaho5vBzxInN'}, 'href': 'https://api.spotify.com/v1/tracks/3QFInJAm9eyaho5vBzxInN', 'id': '3QFInJAm9eyaho5vBzxInN', 'is_local': False, 'is_playable': True, 'name': 'family ties (with Kendrick Lamar)', 'popularity': 84, 'preview_url': 'https://p.scdn.co/mp3-preview/376965c332ef1da7f59826c2c12160456e960b8b?cid=acef22a2d8fa4d3983713871def09dd8', 'track_number': 10, 'type': 'track', 'uri': 'spotify:track:3QFInJAm9eyaho5vBzxInN'}, {'album': {'album_type': 'single', 'artists': [{'external_urls': {'spotify': 'https://open.spotify.com/artist/2YZyLoL8N0Wb9xBt1NhZWg'}, 'href': 'https://api.spotify.com/v1/artists/2YZyLoL8N0Wb9xBt1NhZWg', 'id': '2YZyLoL8N0Wb9xBt1NhZWg', 'name': 'Kendrick Lamar', 'type': 'artist', 'uri': 'spotify:artist:2YZyLoL8N0Wb9xBt1NhZWg'}], 'external_urls': {'spotify': 'https://open.spotify.com/album/2XPrwlaAHHXnJzP9tBcIzH'}, 'href': 'https://api.spotify.com/v1/albums/2XPrwlaAHHXnJzP9tBcIzH', 'id': '2XPrwlaAHHXnJzP9tBcIzH', 'images': [{'height': 640, 'url': 'https://i.scdn.co/image/ab67616d0000b273b5ef185d28724c5573c2ac9c', 'width': 640}, {'height': 300, 'url': 'https://i.scdn.co/image/ab67616d00001e02b5ef185d28724c5573c2ac9c', 'width': 300}, {'height': 64, 'url': 'https://i.scdn.co/image/ab67616d00004851b5ef185d28724c5573c2ac9c', 'width': 64}], 'is_playable': True, 'name': 'Swimming Pools (Drank)', 'release_date': '2012-01-01', 'release_date_precision': 'day', 'total_tracks': 1, 'type': 'album', 'uri': 'spotify:album:2XPrwlaAHHXnJzP9tBcIzH'}, 'artists': [{'external_urls': {'spotify': 'https://open.spotify.com/artist/2YZyLoL8N0Wb9xBt1NhZWg'}, 'href': 'https://api.spotify.com/v1/artists/2YZyLoL8N0Wb9xBt1NhZWg', 'id': '2YZyLoL8N0Wb9xBt1NhZWg', 'name': 'Kendrick Lamar', 'type': 'artist', 'uri': 'spotify:artist:2YZyLoL8N0Wb9xBt1NhZWg'}], 'disc_number': 1, 'duration_ms': 247800, 'explicit': True, 'external_ids': {'isrc': 'USUM71207642'}, 'external_urls': {'spotify': 'https://open.spotify.com/track/6REbwUNlppTfcnV4d4ZoZi'}, 'href': 'https://api.spotify.com/v1/tracks/6REbwUNlppTfcnV4d4ZoZi', 'id': '6REbwUNlppTfcnV4d4ZoZi', 'is_local': False, 'is_playable': True, 'name': 'Swimming Pools (Drank)', 'popularity': 85, 'preview_url': None, 'track_number': 1, 'type': 'track', 'uri': 'spotify:track:6REbwUNlppTfcnV4d4ZoZi'}, {'album': {'album_type': 'album', 'artists': [{'external_urls': {'spotify': 'https://open.spotify.com/artist/1Xyo4u8uXC1ZmMpatF05PJ'}, 'href': 'https://api.spotify.com/v1/artists/1Xyo4u8uXC1ZmMpatF05PJ', 'id': '1Xyo4u8uXC1ZmMpatF05PJ', 'name': 'The Weeknd', 'type': 'artist', 'uri': 'spotify:artist:1Xyo4u8uXC1ZmMpatF05PJ'}], 'external_urls': {'spotify': 'https://open.spotify.com/album/18sR8zHx4zsVJUI4bHWuPC'}, 'href': 'https://api.spotify.com/v1/albums/18sR8zHx4zsVJUI4bHWuPC', 'id': '18sR8zHx4zsVJUI4bHWuPC', 'images': [{'height': 640, 'url': 'https://i.scdn.co/image/ab67616d0000b273c87bfeef81a210ddb7f717b5', 'width': 640}, {'height': 300, 'url': 'https://i.scdn.co/image/ab67616d00001e02c87bfeef81a210ddb7f717b5', 'width': 300}, {'height': 64, 'url': 'https://i.scdn.co/image/ab67616d00004851c87bfeef81a210ddb7f717b5', 'width': 64}], 'is_playable': True, 'name': 'The Highlights (Deluxe)', 'release_date': '2024-02-09', 'release_date_precision': 'day', 'total_tracks': 36, 'type': 'album', 'uri': 'spotify:album:18sR8zHx4zsVJUI4bHWuPC'}, 'artists': [{'external_urls': {'spotify': 'https://open.spotify.com/artist/1Xyo4u8uXC1ZmMpatF05PJ'}, 'href': 'https://api.spotify.com/v1/artists/1Xyo4u8uXC1ZmMpatF05PJ', 'id': '1Xyo4u8uXC1ZmMpatF05PJ', 'name': 'The Weeknd', 'type': 'artist', 'uri': 'spotify:artist:1Xyo4u8uXC1ZmMpatF05PJ'}, {'external_urls': {'spotify': 'https://open.spotify.com/artist/2YZyLoL8N0Wb9xBt1NhZWg'}, 'href': 'https://api.spotify.com/v1/artists/2YZyLoL8N0Wb9xBt1NhZWg', 'id': '2YZyLoL8N0Wb9xBt1NhZWg', 'name': 'Kendrick Lamar', 'type': 'artist', 'uri': 'spotify:artist:2YZyLoL8N0Wb9xBt1NhZWg'}], 'disc_number': 1, 'duration_ms': 211420, 'explicit': True, 'external_ids': {'isrc': 'USUM71800001'}, 'external_urls': {'spotify': 'https://open.spotify.com/track/5W3Mi5lW7CIr3eTj1cc69p'}, 'href': 'https://api.spotify.com/v1/tracks/5W3Mi5lW7CIr3eTj1cc69p', 'id': '5W3Mi5lW7CIr3eTj1cc69p', 'is_local': False, 'is_playable': True, 'name': 'Pray For Me (with Kendrick Lamar)', 'popularity': 72, 'preview_url': None, 'track_number': 9, 'type': 'track', 'uri': 'spotify:track:5W3Mi5lW7CIr3eTj1cc69p'}, {'album': {'album_type': 'album', 'artists': [{'external_urls': {'spotify': 'https://open.spotify.com/artist/2YZyLoL8N0Wb9xBt1NhZWg'}, 'href': 'https://api.spotify.com/v1/artists/2YZyLoL8N0Wb9xBt1NhZWg', 'id': '2YZyLoL8N0Wb9xBt1NhZWg', 'name': 'Kendrick Lamar', 'type': 'artist', 'uri': 'spotify:artist:2YZyLoL8N0Wb9xBt1NhZWg'}], 'external_urls': {'spotify': 'https://open.spotify.com/album/7ycBtnsMtyVbbwTfJwRjSP'}, 'href': 'https://api.spotify.com/v1/albums/7ycBtnsMtyVbbwTfJwRjSP', 'id': '7ycBtnsMtyVbbwTfJwRjSP', 'images': [{'height': 640, 'url': 'https://i.scdn.co/image/ab67616d0000b273cdb645498cd3d8a2db4d05e1', 'width': 640}, {'height': 300, 'url': 'https://i.scdn.co/image/ab67616d00001e02cdb645498cd3d8a2db4d05e1', 'width': 300}, {'height': 64, 'url': 'https://i.scdn.co/image/ab67616d00004851cdb645498cd3d8a2db4d05e1', 'width': 64}], 'is_playable': True, 'name': 'To Pimp A Butterfly', 'release_date': '2015-03-16', 'release_date_precision': 'day', 'total_tracks': 16, 'type': 'album', 'uri': 'spotify:album:7ycBtnsMtyVbbwTfJwRjSP'}, 'artists': [{'external_urls': {'spotify': 'https://open.spotify.com/artist/2YZyLoL8N0Wb9xBt1NhZWg'}, 'href': 'https://api.spotify.com/v1/artists/2YZyLoL8N0Wb9xBt1NhZWg', 'id': '2YZyLoL8N0Wb9xBt1NhZWg', 'name': 'Kendrick Lamar', 'type': 'artist', 'uri': 'spotify:artist:2YZyLoL8N0Wb9xBt1NhZWg'}], 'disc_number': 1, 'duration_ms': 219333, 'explicit': True, 'external_ids': {'isrc': 'USUM71502498'}, 'external_urls': {'spotify': 'https://open.spotify.com/track/3iVcZ5G6tvkXZkZKlMpIUs'}, 'href': 'https://api.spotify.com/v1/tracks/3iVcZ5G6tvkXZkZKlMpIUs', 'id': '3iVcZ5G6tvkXZkZKlMpIUs', 'is_local': False, 'is_playable': True, 'name': 'Alright', 'popularity': 83, 'preview_url': None, 'track_number': 7, 'type': 'track', 'uri': 'spotify:track:3iVcZ5G6tvkXZkZKlMpIUs'}, {'album': {'album_type': 'album', 'artists': [{'external_urls': {'spotify': 'https://open.spotify.com/artist/2YZyLoL8N0Wb9xBt1NhZWg'}, 'href': 'https://api.spotify.com/v1/artists/2YZyLoL8N0Wb9xBt1NhZWg', 'id': '2YZyLoL8N0Wb9xBt1NhZWg', 'name': 'Kendrick Lamar', 'type': 'artist', 'uri': 'spotify:artist:2YZyLoL8N0Wb9xBt1NhZWg'}], 'external_urls': {'spotify': 'https://open.spotify.com/album/4eLPsYPBmXABThSJ821sqY'}, 'href': 'https://api.spotify.com/v1/albums/4eLPsYPBmXABThSJ821sqY', 'id': '4eLPsYPBmXABThSJ821sqY', 'images': [{'height': 640, 'url': 'https://i.scdn.co/image/ab67616d0000b2738b52c6b9bc4e43d873869699', 'width': 640}, {'height': 300, 'url': 'https://i.scdn.co/image/ab67616d00001e028b52c6b9bc4e43d873869699', 'width': 300}, {'height': 64, 'url': 'https://i.scdn.co/image/ab67616d000048518b52c6b9bc4e43d873869699', 'width': 64}], 'is_playable': True, 'name': 'DAMN.', 'release_date': '2017-04-14', 'release_date_precision': 'day', 'total_tracks': 14, 'type': 'album', 'uri': 'spotify:album:4eLPsYPBmXABThSJ821sqY'}, 'artists': [{'external_urls': {'spotify': 'https://open.spotify.com/artist/2YZyLoL8N0Wb9xBt1NhZWg'}, 'href': 'https://api.spotify.com/v1/artists/2YZyLoL8N0Wb9xBt1NhZWg', 'id': '2YZyLoL8N0Wb9xBt1NhZWg', 'name': 'Kendrick Lamar', 'type': 'artist', 'uri': 'spotify:artist:2YZyLoL8N0Wb9xBt1NhZWg'}], 'disc_number': 1, 'duration_ms': 185946, 'explicit': True, 'external_ids': {'isrc': 'USUM71703079'}, 'external_urls': {'spotify': 'https://open.spotify.com/track/6HZILIRieu8S0iqY8kIKhj'}, 'href': 'https://api.spotify.com/v1/tracks/6HZILIRieu8S0iqY8kIKhj', 'id': '6HZILIRieu8S0iqY8kIKhj', 'is_local': False, 'is_playable': True, 'name': 'DNA.', 'popularity': 83, 'preview_url': None, 'track_number': 2, 'type': 'track', 'uri': 'spotify:track:6HZILIRieu8S0iqY8kIKhj'}]\n"
                    ]
                }
            ],
            "source": [
                "client_credentials_manager = SpotifyClientCredentials(client_id= client_id, client_secret=client_secret)\n",
                "spotify = spotipy.Spotify(client_credentials_manager\n",
                "=\n",
                "client_credentials_manager)\n",
                "\n",
                "#paste the key of the corresponding artist and store it\n",
                "Kendrick_url = 'spotify:artist:2YZyLoL8N0Wb9xBt1NhZWg'\n",
                "\n",
                "#we store into results the album from our url, using the built-in function .artists_albums after spotify to access our credentials and extract it\n",
                "results = spotify.artist_top_tracks(Kendrick_url)['tracks']\n",
                "#for track in results['tracks'][:10]:\n",
                "  #  print(track['name'])\n",
                "\n",
                "print(results)"
            ]
        },
        {
            "cell_type": "code",
            "execution_count": 83,
            "metadata": {},
            "outputs": [
                {
                    "data": {
                        "text/html": [
                            "<div>\n",
                            "<style scoped>\n",
                            "    .dataframe tbody tr th:only-of-type {\n",
                            "        vertical-align: middle;\n",
                            "    }\n",
                            "\n",
                            "    .dataframe tbody tr th {\n",
                            "        vertical-align: top;\n",
                            "    }\n",
                            "\n",
                            "    .dataframe thead th {\n",
                            "        text-align: right;\n",
                            "    }\n",
                            "</style>\n",
                            "<table border=\"1\" class=\"dataframe\">\n",
                            "  <thead>\n",
                            "    <tr style=\"text-align: right;\">\n",
                            "      <th></th>\n",
                            "      <th>name</th>\n",
                            "      <th>popularity</th>\n",
                            "      <th>duration_ms</th>\n",
                            "    </tr>\n",
                            "  </thead>\n",
                            "  <tbody>\n",
                            "    <tr>\n",
                            "      <th>0</th>\n",
                            "      <td>Money Trees</td>\n",
                            "      <td>84</td>\n",
                            "      <td>386906</td>\n",
                            "    </tr>\n",
                            "    <tr>\n",
                            "      <th>1</th>\n",
                            "      <td>All The Stars (with SZA)</td>\n",
                            "      <td>89</td>\n",
                            "      <td>232186</td>\n",
                            "    </tr>\n",
                            "    <tr>\n",
                            "      <th>2</th>\n",
                            "      <td>HUMBLE.</td>\n",
                            "      <td>88</td>\n",
                            "      <td>177000</td>\n",
                            "    </tr>\n",
                            "    <tr>\n",
                            "      <th>3</th>\n",
                            "      <td>LOVE. FEAT. ZACARI.</td>\n",
                            "      <td>87</td>\n",
                            "      <td>213400</td>\n",
                            "    </tr>\n",
                            "    <tr>\n",
                            "      <th>4</th>\n",
                            "      <td>PRIDE.</td>\n",
                            "      <td>86</td>\n",
                            "      <td>275253</td>\n",
                            "    </tr>\n",
                            "    <tr>\n",
                            "      <th>5</th>\n",
                            "      <td>family ties (with Kendrick Lamar)</td>\n",
                            "      <td>84</td>\n",
                            "      <td>252262</td>\n",
                            "    </tr>\n",
                            "    <tr>\n",
                            "      <th>6</th>\n",
                            "      <td>Swimming Pools (Drank)</td>\n",
                            "      <td>85</td>\n",
                            "      <td>247800</td>\n",
                            "    </tr>\n",
                            "    <tr>\n",
                            "      <th>7</th>\n",
                            "      <td>Pray For Me (with Kendrick Lamar)</td>\n",
                            "      <td>72</td>\n",
                            "      <td>211420</td>\n",
                            "    </tr>\n",
                            "    <tr>\n",
                            "      <th>8</th>\n",
                            "      <td>Alright</td>\n",
                            "      <td>83</td>\n",
                            "      <td>219333</td>\n",
                            "    </tr>\n",
                            "    <tr>\n",
                            "      <th>9</th>\n",
                            "      <td>DNA.</td>\n",
                            "      <td>83</td>\n",
                            "      <td>185946</td>\n",
                            "    </tr>\n",
                            "  </tbody>\n",
                            "</table>\n",
                            "</div>"
                        ],
                        "text/plain": [
                            "                                name  popularity  duration_ms\n",
                            "0                        Money Trees          84       386906\n",
                            "1           All The Stars (with SZA)          89       232186\n",
                            "2                            HUMBLE.          88       177000\n",
                            "3                LOVE. FEAT. ZACARI.          87       213400\n",
                            "4                             PRIDE.          86       275253\n",
                            "5  family ties (with Kendrick Lamar)          84       252262\n",
                            "6             Swimming Pools (Drank)          85       247800\n",
                            "7  Pray For Me (with Kendrick Lamar)          72       211420\n",
                            "8                            Alright          83       219333\n",
                            "9                               DNA.          83       185946"
                        ]
                    },
                    "execution_count": 83,
                    "metadata": {},
                    "output_type": "execute_result"
                }
            ],
            "source": [
                "Kendrick_df = pd.DataFrame(results, columns=['name', 'popularity', 'duration_ms'])\n",
                "Kendrick_df"
            ]
        },
        {
            "cell_type": "code",
            "execution_count": 69,
            "metadata": {},
            "outputs": [],
            "source": [
                "import matplotlib.pyplot as plt\n",
                "import numpy as np"
            ]
        },
        {
            "cell_type": "code",
            "execution_count": 72,
            "metadata": {},
            "outputs": [
                {
                    "data": {
                        "image/png": "[encoded data removed]",
                        "text/plain": [
                            "<Figure size 640x480 with 2 Axes>"
                        ]
                    },
                    "metadata": {},
                    "output_type": "display_data"
                }
            ],
            "source": [
                "colors = np.array([70, 72, 83, 84, 85, 86, 87, 88, 89, 90])\n",
                "plt.scatter(x=Kendrick_df['duration_ms'], y=Kendrick_df['popularity'], c=colors, cmap='viridis')\n",
                "\n",
                "plt.colorbar()\n",
                "plt.show()"
            ]
        },
        {
            "cell_type": "code",
            "execution_count": 78,
            "metadata": {},
            "outputs": [
                {
                    "data": {
                        "text/plain": [
                            "array([[1.        , 0.04933396],\n",
                            "       [0.04933396, 1.        ]])"
                        ]
                    },
                    "execution_count": 78,
                    "metadata": {},
                    "output_type": "execute_result"
                }
            ],
            "source": [
                "np.corrcoef(Kendrick_df['duration_ms'], Kendrick_df['popularity'])"
            ]
        },
        {
            "cell_type": "markdown",
            "metadata": {},
            "source": [
                "There is no correlation or a very minimal correlation"
            ]
        }
    ],
    "metadata": {
        "kernelspec": {
            "display_name": "Python 3.8.13 64-bit ('3.8.13')",
            "language": "python",
            "name": "python3"
        },
        "language_info": {
            "codemirror_mode": {
                "name": "ipython",
                "version": 3
            },
            "file_extension": ".py",
            "mimetype": "text/x-python",
            "name": "python",
            "nbconvert_exporter": "python",
            "pygments_lexer": "ipython3",
            "version": "3.11.4"
        },
        "orig_nbformat": 4,
        "vscode": {
            "interpreter": {
                "hash": "110cc1dee26208153f2972f08a2ad52b6a56238dc66d48e87fb757ef2996db56"
            }
        }
    },
    "nbformat": 4,
    "nbformat_minor": 2
}
